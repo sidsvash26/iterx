{
 "cells": [
  {
   "cell_type": "code",
   "execution_count": 1,
   "metadata": {},
   "outputs": [],
   "source": [
    "import sys\n",
    "sys.path.append(\"../../../\")"
   ]
  },
  {
   "cell_type": "code",
   "execution_count": 2,
   "metadata": {},
   "outputs": [],
   "source": [
    "from iterx.metrics.famus.iterx_famus import IterXFAMuSMetric, out_compute_ceafe_rme_scores\n",
    "import json\n",
    "import pandas as pd"
   ]
  },
  {
   "attachments": {},
   "cell_type": "markdown",
   "metadata": {},
   "source": [
    "### Sample Gold and Predicted data"
   ]
  },
  {
   "cell_type": "code",
   "execution_count": 3,
   "metadata": {},
   "outputs": [],
   "source": [
    "gold_data_dict = {\n",
    "    'EN-0935-83-frame-Clemency': [],\n",
    "    'EN-1106-96-frame-Using': [\n",
    "        {'incident_type': 'Using',\n",
    "        'Purpose': [[['to make pharmaceutical drugs', 0, 0]]],\n",
    "        'Instrument': [[['isopropanol and diethylamine', 0, 0]]]},\n",
    "  \n",
    "        {'incident_type': 'Using',\n",
    "        'Purpose': [[['can also be used in the production of chemical weapons and nerve agents such as VX and sarin gas',0,0]]],\n",
    "        'Instrument': [[['isopropanol and diethylamine', 0, 0]]]},\n",
    " \n",
    "        {'incident_type': 'Using',\n",
    "        'Time': [[['in 2017', 0, 0]]],\n",
    "        'Place': [[['the town of Khan Sheikhoun', 0, 0]]],\n",
    "        'Purpose': [[['in attacks', 0, 0]]],\n",
    "        'Agent': [[['the Assad regime', 0, 0]]],\n",
    "        'Instrument': [[['Sarin gas', 0, 0]]]}],\n",
    "\n",
    " 'EN-0028-22-frame-Being_located': [],\n",
    "\n",
    " 'EN-3115-202-frame-Waking_up': [\n",
    "     {'incident_type': 'Waking_up',\n",
    "      'Sleeper': [[['rats', 0, 0]]],\n",
    "      'Sleep_state': [[['REM sleep [ the deepest sleep phase ]', 0, 0]]],\n",
    "      'Time': [[['when they stop breathing', 0, 0]]]}]\n",
    "}\n",
    "\n",
    "predicted_dict = {\n",
    "    'EN-0935-83-frame-Clemency': [],\n",
    "\n",
    "    'EN-1106-96-frame-Using': [\n",
    "        {'incident_type': 'Using',\n",
    "        'Time': [['2017']],\n",
    "        'Place': [['the town of Khan Sheikhoun']],\n",
    "        'Agent': [['the Assad regime']],\n",
    "        'Instrument': [['sarin gas']]\n",
    "        }],\n",
    "\n",
    "    'EN-0028-22-frame-Being_located': [],\n",
    "\n",
    "    'EN-3115-202-frame-Waking_up': [\n",
    "        {'incident_type': 'Waking_up',\n",
    "        'Sleeper': [['rats']],\n",
    "        'Sleep_state': [['REM sleep [ the deepest sleep phase ]']],\n",
    "        'Time': [['after 4 days']]}],\n",
    "}"
   ]
  },
  {
   "cell_type": "code",
   "execution_count": 4,
   "metadata": {},
   "outputs": [
    {
     "data": {
      "text/html": [
       "<div>\n",
       "<style scoped>\n",
       "    .dataframe tbody tr th:only-of-type {\n",
       "        vertical-align: middle;\n",
       "    }\n",
       "\n",
       "    .dataframe tbody tr th {\n",
       "        vertical-align: top;\n",
       "    }\n",
       "\n",
       "    .dataframe thead th {\n",
       "        text-align: right;\n",
       "    }\n",
       "</style>\n",
       "<table border=\"1\" class=\"dataframe\">\n",
       "  <thead>\n",
       "    <tr style=\"text-align: right;\">\n",
       "      <th></th>\n",
       "      <th>metric</th>\n",
       "      <th>P</th>\n",
       "      <th>R</th>\n",
       "      <th>F1</th>\n",
       "    </tr>\n",
       "  </thead>\n",
       "  <tbody>\n",
       "    <tr>\n",
       "      <th>0</th>\n",
       "      <td>CEAF_RME_phi-3</td>\n",
       "      <td>57.14</td>\n",
       "      <td>33.33</td>\n",
       "      <td>42.11</td>\n",
       "    </tr>\n",
       "    <tr>\n",
       "      <th>1</th>\n",
       "      <td>CEAF_RME_phi-a</td>\n",
       "      <td>80.95</td>\n",
       "      <td>47.22</td>\n",
       "      <td>59.65</td>\n",
       "    </tr>\n",
       "  </tbody>\n",
       "</table>\n",
       "</div>"
      ],
      "text/plain": [
       "           metric      P      R     F1\n",
       "0  CEAF_RME_phi-3  57.14  33.33  42.11\n",
       "1  CEAF_RME_phi-a  80.95  47.22  59.65"
      ]
     },
     "execution_count": 4,
     "metadata": {},
     "output_type": "execute_result"
    }
   ],
   "source": [
    "out_compute_ceafe_rme_scores(gold_data_dict, \n",
    "                             predicted_dict,\n",
    "                             ignore_no_template_doc =False ,\n",
    "                             sanitize_special_chars= False,\n",
    "                             metrics = ('CEAF_RME_phi-3', 'CEAF_RME_phi-a'))"
   ]
  },
  {
   "cell_type": "code",
   "execution_count": null,
   "metadata": {},
   "outputs": [],
   "source": []
  }
 ],
 "metadata": {
  "kernelspec": {
   "display_name": "iterx",
   "language": "python",
   "name": "python3"
  },
  "language_info": {
   "codemirror_mode": {
    "name": "ipython",
    "version": 3
   },
   "file_extension": ".py",
   "mimetype": "text/x-python",
   "name": "python",
   "nbconvert_exporter": "python",
   "pygments_lexer": "ipython3",
   "version": "3.11.4"
  },
  "orig_nbformat": 4,
  "vscode": {
   "interpreter": {
    "hash": "f5256e12473a8970015d915a58dada219cb91998759ab28472f8d1f827a9b4f0"
   }
  }
 },
 "nbformat": 4,
 "nbformat_minor": 2
}
